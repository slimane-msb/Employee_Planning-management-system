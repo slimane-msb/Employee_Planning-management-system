{
 "cells": [
  {
   "cell_type": "code",
   "execution_count": 2,
   "metadata": {},
   "outputs": [],
   "source": [
    "import pandas as pd\n",
    "from datetime import datetime\n",
    "import matplotlib.pyplot as plt\n",
    "\n",
    "df = pd.read_csv(\"20222723112716.csv\", encoding = \"ISO-8859-1\")\n",
    "\n",
    "df['date'] = pd.to_datetime(df['date'],format='%Y-%m-%d')\n",
    "df['duration'] = pd.to_datetime(df['duration'],format='%H:%M:%S')\n",
    "\n",
    "df['durationMinute'] = df['duration']\n",
    "df['durationMinute'] = (pd.DatetimeIndex(df['duration']).hour*60+pd.DatetimeIndex(df['duration']).minute)/60\n",
    "\n",
    "dfm = df.groupby(df.date.dt.month)['durationMinute'].sum()\n",
    "dfm\n",
    "print(dfm.index)\n",
    "print(dfm.values)\n",
    "plt.bar(x=dfm.index,height=dfm.values)\n",
    "plt.title('number of hours worked by month')\n",
    "plt.xlabel('months')\n",
    "plt.ylabel('number of hours')\n",
    "\n",
    "plt.show()\n",
    "\n"
   ]
  }
 ],
 "metadata": {
  "interpreter": {
   "hash": "c50489d0a520c3f76d777a0f5c6e2e2420a804419bdb47bf621663fd32f293d6"
  },
  "kernelspec": {
   "display_name": "Python 3.9.6 64-bit",
   "language": "python",
   "name": "python3"
  },
  "language_info": {
   "codemirror_mode": {
    "name": "ipython",
    "version": 3
   },
   "file_extension": ".py",
   "mimetype": "text/x-python",
   "name": "python",
   "nbconvert_exporter": "python",
   "pygments_lexer": "ipython3",
   "version": "3.9.6"
  },
  "orig_nbformat": 4
 },
 "nbformat": 4,
 "nbformat_minor": 2
}
